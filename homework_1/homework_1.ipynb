{
  "nbformat": 4,
  "nbformat_minor": 0,
  "metadata": {
    "colab": {
      "name": "homework_1.ipynb",
      "provenance": [],
      "collapsed_sections": [],
      "toc_visible": true
    },
    "kernelspec": {
      "name": "python3",
      "display_name": "Python 3"
    }
  },
  "cells": [
    {
      "cell_type": "markdown",
      "metadata": {
        "id": "DV12vJ0UWS53"
      },
      "source": [
        "# Часть I: О теореме Байеса"
      ]
    },
    {
      "cell_type": "markdown",
      "metadata": {
        "id": "zdMKpokIWoLc"
      },
      "source": [
        "## 1. Прокурор\r\n",
        "\r\n",
        "Ошибка прокурора заключается в том, что он считает достаточным учесть вероятность, что у человека редкая группа крови (которой обладает 1% населения города). При этом он не учитывает тот факт, что 1% процент от населения города – это 0,1 * 1000000 = 10000 человек.\r\n",
        "\r\n",
        "В качестве правильной вероятности необходимо было рассматривать оценку условной вероятности, что человек является убийцей при условии, что у него редкая группа крови.\r\n"
      ]
    },
    {
      "cell_type": "markdown",
      "metadata": {
        "id": "dTWgYMbnWx_s"
      },
      "source": [
        "## 2. Адвокат\r\n",
        "\r\n",
        "Ошибка адвоката заключается предложение исключить данную информацию из материалов дела. Данное предложение является ошибкой, потому что наличие у подозреваемого редкой крови увеличивает его вероятность быть виновным, т.к. редкой кровью обладают лишь 10000 жителей города, а не миллион, т.е. число сокращается в 100 раз.\r\n"
      ]
    },
    {
      "cell_type": "markdown",
      "metadata": {
        "id": "nGB6g7XJXU4z"
      },
      "source": [
        "## 3. Тест на болезнь\r\n",
        "\r\n",
        "Введём обозначения:\r\n",
        "\r\n",
        "* d - человек болен (соответственно, $ \\overline{d} $ - не болен)\r\n",
        "* t - тест положительный (соответственно, $ \\overline{t} $ - тест отрицательный)\r\n",
        "\r\n",
        "А также рассмотрим следующие условные вероятности по теореме Байеса:\r\n",
        "\r\n",
        "$$ \r\n",
        "p(d|t)=\\frac{p(t|d)p(d)}{p(t)}=\\frac{p(t|d)p(d)}{p(t|d)p(d) + p(t|\\overline{d})p(\\overline{d})}\r\n",
        "$$\r\n",
        "\r\n",
        "$$\r\n",
        "p(d|\\overline{t})=\\frac{p(\\overline{t}|d)p(d)}{p(\\overline{t})}=\\frac{p(\\overline{t}|d)p(d)}{p(\\overline{t}|d)p(d) + p(\\overline{t}|\\overline{d})p(\\overline{d})}\r\n",
        "$$\r\n",
        "\r\n",
        "С учётом начальных условий получаем:\r\n",
        "$$ \r\n",
        "p(d|t)=\\frac{0.95 \\cdot 0.01}{0.95 \\cdot 0.01 + 0.05 \\cdot 0.99} \\approx 0.16\r\n",
        "$$\r\n",
        "\r\n",
        "$$\r\n",
        "p(d|\\overline{t})=\\frac{0.05 \\cdot 0.01}{0.05 \\cdot 0.01 + 0.95 \\cdot 0.99} \\approx 0.00053\r\n",
        "$$\r\n",
        "\r\n",
        "Теперь рассмотрим ложноположительную $ p(t|\\overline{d}) $ и ложноотрицательную $ p(\\overline{t}|d) $ ошибки с учётом максимальной вероятности в $ 0.05 $ в обоих случаях. Рассмотрим по очереди уменьшение ошибок на $ 0.01 $.\r\n",
        "\r\n",
        "1. Уменьшим $ p(t|\\overline{d}) $\r\n",
        "\r\n",
        "$$ \r\n",
        "p(t|\\overline{d}) = 0.04 => p(\\overline{t}|\\overline{d}) = 1 - p(t|\\overline{d}) = 0.96\r\n",
        "$$\r\n",
        "\r\n",
        "Тогда получим, что:\r\n",
        "$$\r\n",
        "p(d|t) \\approx 0.19348\r\n",
        "$$\r\n",
        "$$\r\n",
        "p(d|\\overline{t}) \\approx 0.00053\r\n",
        "$$\r\n",
        "\r\n",
        "Соответственно, $ p(d|t) $ увеличилось на $ 0.03348 $, тогда как $ p(d|\\overline{t}) $ уменьшилось на $ 0 $ (с учётом $ 5 $-го знака).\r\n",
        "\r\n",
        "2. Уменьшим $ p(\\overline{t}|d) $\r\n",
        "\r\n",
        "$$\r\n",
        "p(\\overline{t}|d) = 0.04 => p(t|d) = 1 - p(\\overline{t}|d) = 0.96\r\n",
        "$$\r\n",
        "\r\n",
        "Тогда получим, что:\r\n",
        "$$\r\n",
        "p(d|t) \\approx 0.16244\r\n",
        "$$\r\n",
        "$$\r\n",
        "p(d|\\overline{t}) \\approx 0.00043\r\n",
        "$$\r\n",
        "\r\n",
        "Соответственно, $ p(d|t) $ увеличилось на $ 0.00244 $, тогда как $ p(d|\\overline{t}) $ уменьшилось на $ 0.0001 $.\r\n",
        "\r\n",
        "## Итог\r\n",
        "\r\n",
        "Таким образом, учитывая уровень прироста $ p(d|t) $ и уровень уменьшение $ p(d|\\overline{t}) $, врачам лучше сосредоточиться на уменьшении вероятности ложноположительной ошибки, т.е. $ p(t|\\overline{d}) $."
      ]
    },
    {
      "cell_type": "markdown",
      "metadata": {
        "id": "_9KTQCcKmJuZ"
      },
      "source": [
        "# Часть II: О линейной регрессии"
      ]
    },
    {
      "cell_type": "markdown",
      "metadata": {
        "id": "eSzh9fy_mcSI"
      },
      "source": [
        "## 1. Скачать и подготовить данные"
      ]
    },
    {
      "cell_type": "code",
      "metadata": {
        "id": "gH93FeULXQ5M"
      },
      "source": [
        "import datetime\r\n",
        "\r\n",
        "import pandas as pd\r\n",
        "import numpy as np\r\n",
        "import matplotlib.pyplot as plt\r\n",
        "from sklearn.linear_model import LinearRegression"
      ],
      "execution_count": null,
      "outputs": []
    },
    {
      "cell_type": "code",
      "metadata": {
        "colab": {
          "base_uri": "https://localhost:8080/",
          "height": 297
        },
        "id": "37HiJxEmmufA",
        "outputId": "fd5aff95-1eab-4783-a2a5-47f434d59f6a"
      },
      "source": [
        "FILENAME_COVID = 'owid-covid-data.csv'\r\n",
        "DATE_FROM = datetime.datetime(year=2020, month=3, day=3)\r\n",
        "DATE_TO = datetime.datetime(year=2020, month=4, day=21)\r\n",
        "\r\n",
        "df = pd.read_csv(FILENAME_COVID, index_col=None, header=0)\r\n",
        "\r\n",
        "df = df[df['location'] == 'Russia']\r\n",
        "df = df[['date', 'new_cases', 'total_cases']]\r\n",
        "\r\n",
        "df['date'] = pd.to_datetime(df['date'])\r\n",
        "df['new_cases'] = df['new_cases'].replace({0: 1})\r\n",
        "\r\n",
        "df_50 = df[(df['date'] >= DATE_FROM) & (df['date'] <= DATE_TO)]\r\n",
        "\r\n",
        "df.reset_index(drop=True, inplace=True)\r\n",
        "df_50.reset_index(drop=True, inplace=True)  # 50 дней\r\n",
        "\r\n",
        "df_50.describe()"
      ],
      "execution_count": null,
      "outputs": [
        {
          "output_type": "execute_result",
          "data": {
            "text/html": [
              "<div>\n",
              "<style scoped>\n",
              "    .dataframe tbody tr th:only-of-type {\n",
              "        vertical-align: middle;\n",
              "    }\n",
              "\n",
              "    .dataframe tbody tr th {\n",
              "        vertical-align: top;\n",
              "    }\n",
              "\n",
              "    .dataframe thead th {\n",
              "        text-align: right;\n",
              "    }\n",
              "</style>\n",
              "<table border=\"1\" class=\"dataframe\">\n",
              "  <thead>\n",
              "    <tr style=\"text-align: right;\">\n",
              "      <th></th>\n",
              "      <th>new_cases</th>\n",
              "      <th>total_cases</th>\n",
              "    </tr>\n",
              "  </thead>\n",
              "  <tbody>\n",
              "    <tr>\n",
              "      <th>count</th>\n",
              "      <td>50.000000</td>\n",
              "      <td>50.000000</td>\n",
              "    </tr>\n",
              "    <tr>\n",
              "      <th>mean</th>\n",
              "      <td>1055.300000</td>\n",
              "      <td>8202.460000</td>\n",
              "    </tr>\n",
              "    <tr>\n",
              "      <th>std</th>\n",
              "      <td>1610.954556</td>\n",
              "      <td>13530.534343</td>\n",
              "    </tr>\n",
              "    <tr>\n",
              "      <th>min</th>\n",
              "      <td>1.000000</td>\n",
              "      <td>3.000000</td>\n",
              "    </tr>\n",
              "    <tr>\n",
              "      <th>25%</th>\n",
              "      <td>18.750000</td>\n",
              "      <td>69.750000</td>\n",
              "    </tr>\n",
              "    <tr>\n",
              "      <th>50%</th>\n",
              "      <td>212.000000</td>\n",
              "      <td>1150.000000</td>\n",
              "    </tr>\n",
              "    <tr>\n",
              "      <th>75%</th>\n",
              "      <td>1388.000000</td>\n",
              "      <td>9766.250000</td>\n",
              "    </tr>\n",
              "    <tr>\n",
              "      <th>max</th>\n",
              "      <td>6060.000000</td>\n",
              "      <td>52763.000000</td>\n",
              "    </tr>\n",
              "  </tbody>\n",
              "</table>\n",
              "</div>"
            ],
            "text/plain": [
              "         new_cases   total_cases\n",
              "count    50.000000     50.000000\n",
              "mean   1055.300000   8202.460000\n",
              "std    1610.954556  13530.534343\n",
              "min       1.000000      3.000000\n",
              "25%      18.750000     69.750000\n",
              "50%     212.000000   1150.000000\n",
              "75%    1388.000000   9766.250000\n",
              "max    6060.000000  52763.000000"
            ]
          },
          "metadata": {
            "tags": []
          },
          "execution_count": 13
        }
      ]
    },
    {
      "cell_type": "code",
      "metadata": {
        "colab": {
          "base_uri": "https://localhost:8080/",
          "height": 545
        },
        "id": "V87OnbnPoT5B",
        "outputId": "07af3c44-ce2f-49b3-fa56-00f35179c9c8"
      },
      "source": [
        "plt.plot(df_50.index, df_50['new_cases'])\r\n",
        "plt.title('Новые заболевшие')\r\n",
        "plt.show()\r\n",
        "\r\n",
        "plt.plot(df_50.index, df_50['total_cases'])\r\n",
        "plt.title('Все заболевшие')\r\n",
        "plt.show()"
      ],
      "execution_count": null,
      "outputs": [
        {
          "output_type": "display_data",
          "data": {
            "image/png": "[encoded data removed]",
            "text/plain": [
              "<Figure size 432x288 with 1 Axes>"
            ]
          },
          "metadata": {
            "tags": [],
            "needs_background": "light"
          }
        },
        {
          "output_type": "display_data",
          "data": {
            "image/png": "[encoded data removed]",
            "text/plain": [
              "<Figure size 432x288 with 1 Axes>"
            ]
          },
          "metadata": {
            "tags": [],
            "needs_background": "light"
          }
        }
      ]
    },
    {
      "cell_type": "markdown",
      "metadata": {
        "id": "8cDVjgeIqkHh"
      },
      "source": [
        "## 2. Постройте графики целевых переменных"
      ]
    },
    {
      "cell_type": "markdown",
      "metadata": {
        "id": "cPCHEFA0qrGh"
      },
      "source": [
        "### 2a Обучите модель с экспоненциальным ростом числа заболевших"
      ]
    },
    {
      "cell_type": "code",
      "metadata": {
        "colab": {
          "base_uri": "https://localhost:8080/",
          "height": 265
        },
        "id": "TAVrji4lqcHC",
        "outputId": "00d50de4-01d8-4906-d214-97397cce5b85"
      },
      "source": [
        "x = np.array([i + 1 for i in range(df_50.shape[0])]).reshape(-1, 1)\r\n",
        "y = np.log(df_50['total_cases'])\r\n",
        "\r\n",
        "model = LinearRegression()\r\n",
        "model.fit(x, y)\r\n",
        "\r\n",
        "predict_y = lambda x: np.exp(model.coef_[0] * x + model.intercept_)\r\n",
        "\r\n",
        "plt.plot(x, df_50['total_cases'], label='исходные данные')\r\n",
        "plt.plot(x, [predict_y(i) for i in x.ravel()], label='регрессионная оценка')\r\n",
        "plt.legend()\r\n",
        "plt.show()"
      ],
      "execution_count": null,
      "outputs": [
        {
          "output_type": "display_data",
          "data": {
            "image/png": "[encoded data removed]",
            "text/plain": [
              "<Figure size 432x288 with 1 Axes>"
            ]
          },
          "metadata": {
            "tags": [],
            "needs_background": "light"
          }
        }
      ]
    }
  ]
}